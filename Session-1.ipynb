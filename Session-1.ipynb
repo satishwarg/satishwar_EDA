{
 "cells": [
  {
   "cell_type": "code",
   "execution_count": null,
   "id": "32b9f2da",
   "metadata": {},
   "outputs": [],
   "source": [
    "#Comments\n",
    "# White color kernal: Idle state \n",
    "#                     Ready to do work \n",
    "# Run the cell: Shift enter \n",
    "# python thinks 8 comes 4 comes first and 5 later \n",
    "# How can we know kermel is busy"
   ]
  },
  {
   "cell_type": "code",
   "execution_count": null,
   "id": "c4e2a3b9",
   "metadata": {},
   "outputs": [],
   "source": [
    "a=10\n",
    "b=20\n",
    "c=a+b\n",
    "c"
   ]
  },
  {
   "cell_type": "code",
   "execution_count": null,
   "id": "824648d1",
   "metadata": {},
   "outputs": [],
   "source": [
    "d=50\n",
    "d"
   ]
  },
  {
   "cell_type": "code",
   "execution_count": null,
   "id": "1e754bad",
   "metadata": {},
   "outputs": [],
   "source": [
    "c+d"
   ]
  },
  {
   "cell_type": "code",
   "execution_count": null,
   "id": "7d2a05d6",
   "metadata": {},
   "outputs": [],
   "source": [
    "d=10\n",
    "d=20\n",
    "d=200\n",
    "d=50\n",
    "d=500\n",
    "d"
   ]
  },
  {
   "cell_type": "code",
   "execution_count": null,
   "id": "3a5a5c09",
   "metadata": {},
   "outputs": [],
   "source": [
    "c+d"
   ]
  },
  {
   "cell_type": "code",
   "execution_count": null,
   "id": "4d62d3af",
   "metadata": {},
   "outputs": [],
   "source": []
  },
  {
   "cell_type": "code",
   "execution_count": null,
   "id": "fd79c9c4",
   "metadata": {},
   "outputs": [],
   "source": [
    "# If i run this cell input : 11\n",
    "#already d=50 \n",
    "# Python will consider the latest run value will be considered "
   ]
  },
  {
   "cell_type": "code",
   "execution_count": null,
   "id": "0783d223",
   "metadata": {},
   "outputs": [],
   "source": [
    "for i in range (1000000):\n",
    "    print (i)"
   ]
  },
  {
   "cell_type": "code",
   "execution_count": null,
   "id": "a3611d71",
   "metadata": {},
   "outputs": [],
   "source": []
  },
  {
   "cell_type": "code",
   "execution_count": 1,
   "id": "789e639a",
   "metadata": {},
   "outputs": [],
   "source": [
    "# Mark down "
   ]
  },
  {
   "cell_type": "code",
   "execution_count": 2,
   "id": "7ff2b4e7",
   "metadata": {},
   "outputs": [],
   "source": [
    "# mark down "
   ]
  },
  {
   "cell_type": "markdown",
   "id": "06c15b72",
   "metadata": {},
   "source": [
    "Today iam learning python"
   ]
  },
  {
   "cell_type": "markdown",
   "id": "6bd2ec34",
   "metadata": {},
   "source": [
    "Hello \n",
    "\n",
    "Check this cell in which mode : code mode \n",
    "    \n",
    "chane to mardown code \n",
    "\n",
    "In () goes of \n",
    "\n",
    "now shift enter"
   ]
  },
  {
   "cell_type": "markdown",
   "id": "8a8efd53",
   "metadata": {},
   "source": [
    "# python"
   ]
  },
  {
   "cell_type": "code",
   "execution_count": 4,
   "id": "2c2ffa6c",
   "metadata": {},
   "outputs": [],
   "source": [
    "# symobol in code mode: comment \n",
    "# symbol in markdown mode: heading "
   ]
  },
  {
   "cell_type": "markdown",
   "id": "7b4a0c5c",
   "metadata": {},
   "source": [
    "##### python \n",
    "\n",
    "- (-) is bullet point \n",
    "\n",
    "# shortcut to got to code mode to mark down mode : esc+m\n",
    "# shortcut from markdown code to code mode: <>"
   ]
  },
  {
   "cell_type": "code",
   "execution_count": null,
   "id": "429ae58b",
   "metadata": {},
   "outputs": [],
   "source": [
    "- sequnce of cell executuion \n",
    "-kermnal status \n",
    "-white: - idle \n",
    "-code: in\n",
    "- \n",
    "    "
   ]
  }
 ],
 "metadata": {
  "kernelspec": {
   "display_name": "Python 3 (ipykernel)",
   "language": "python",
   "name": "python3"
  },
  "language_info": {
   "codemirror_mode": {
    "name": "ipython",
    "version": 3
   },
   "file_extension": ".py",
   "mimetype": "text/x-python",
   "name": "python",
   "nbconvert_exporter": "python",
   "pygments_lexer": "ipython3",
   "version": "3.11.5"
  }
 },
 "nbformat": 4,
 "nbformat_minor": 5
}
