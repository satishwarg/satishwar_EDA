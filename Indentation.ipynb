{
 "cells": [
  {
   "cell_type": "code",
   "execution_count": null,
   "id": "a807256c",
   "metadata": {},
   "outputs": [],
   "source": []
  },
  {
   "cell_type": "code",
   "execution_count": 1,
   "id": "514dbe60",
   "metadata": {},
   "outputs": [
    {
     "name": "stdout",
     "output_type": "stream",
     "text": [
      "hai\n",
      "1\n",
      "good\n"
     ]
    }
   ],
   "source": [
    "if \"python\"==\"python\":\n",
    "    print('hai')\n",
    "    print(1)\n",
    "    print(\"good\")"
   ]
  },
  {
   "cell_type": "code",
   "execution_count": 4,
   "id": "65b4d979",
   "metadata": {},
   "outputs": [
    {
     "ename": "SyntaxError",
     "evalue": "expected ':' (1796829984.py, line 1)",
     "output_type": "error",
     "traceback": [
      "\u001b[1;36m  Cell \u001b[1;32mIn[4], line 1\u001b[1;36m\u001b[0m\n\u001b[1;33m    if \"python\"==\"python\"\u001b[0m\n\u001b[1;37m                         ^\u001b[0m\n\u001b[1;31mSyntaxError\u001b[0m\u001b[1;31m:\u001b[0m expected ':'\n"
     ]
    }
   ],
   "source": [
    "if \"python\"==\"python\""
   ]
  },
  {
   "cell_type": "code",
   "execution_count": null,
   "id": "46666c72",
   "metadata": {},
   "outputs": [],
   "source": [
    "#########assign############\n",
    "name='python' # we are saving a value python in avariable name "
   ]
  },
  {
   "cell_type": "code",
   "execution_count": null,
   "id": "649f976e",
   "metadata": {},
   "outputs": [],
   "source": [
    "###########condition###########\n",
    "name==\"python\" # we are checking the name is equal to python "
   ]
  },
  {
   "cell_type": "code",
   "execution_count": 5,
   "id": "61e23185",
   "metadata": {},
   "outputs": [
    {
     "data": {
      "text/plain": [
       "False"
      ]
     },
     "execution_count": 5,
     "metadata": {},
     "output_type": "execute_result"
    }
   ],
   "source": [
    "'hello'==\"pyhton\""
   ]
  },
  {
   "cell_type": "code",
   "execution_count": 6,
   "id": "f00bc451",
   "metadata": {},
   "outputs": [
    {
     "data": {
      "text/plain": [
       "True"
      ]
     },
     "execution_count": 6,
     "metadata": {},
     "output_type": "execute_result"
    }
   ],
   "source": [
    "\"python\"==\"python\""
   ]
  },
  {
   "cell_type": "code",
   "execution_count": 7,
   "id": "71726e51",
   "metadata": {},
   "outputs": [
    {
     "name": "stdout",
     "output_type": "stream",
     "text": [
      "hai\n",
      "1\n",
      "good\n"
     ]
    }
   ],
   "source": [
    "# method 1\n",
    "if \"python\"==\"python\":\n",
    "    print('hai')\n",
    "    print(1)\n",
    "    print(\"good\")"
   ]
  },
  {
   "cell_type": "code",
   "execution_count": 8,
   "id": "169f6609",
   "metadata": {},
   "outputs": [
    {
     "name": "stdout",
     "output_type": "stream",
     "text": [
      "hai\n",
      "1\n",
      "good\n"
     ]
    }
   ],
   "source": [
    "#  method-2\n",
    "if True:\n",
    "    print('hai')\n",
    "    print(1)\n",
    "    print(\"good\")"
   ]
  },
  {
   "cell_type": "code",
   "execution_count": 11,
   "id": "14f00d00",
   "metadata": {},
   "outputs": [
    {
     "name": "stdout",
     "output_type": "stream",
     "text": [
      "enter a name: python\n",
      "hai\n",
      "1\n",
      "good\n"
     ]
    }
   ],
   "source": [
    "#method 3\n",
    "name=input(\"enter a name: \") # we are saving the name in a avariable\n",
    "\n",
    "###############################################################################\n",
    "\n",
    "if name==\"python\":    # checking the condition \n",
    "    print('hai')\n",
    "    print(1)\n",
    "    print(\"good\")\n",
    "###########################################################################\n",
    "else:\n",
    "    print(\"enter a valid name\")"
   ]
  },
  {
   "cell_type": "code",
   "execution_count": 13,
   "id": "978286a7",
   "metadata": {},
   "outputs": [
    {
     "name": "stdout",
     "output_type": "stream",
     "text": [
      "hey\n",
      "enter a name: hello\n",
      "good morning\n",
      "enter a valid name\n",
      "sorry\n",
      "now its fine\n"
     ]
    }
   ],
   "source": [
    "print('hey')\n",
    "name=input(\"enter a name: \")\n",
    "print(\"good morning\")\n",
    "#############################################################\n",
    "if name==\"python\":    \n",
    "    print('hai')\n",
    "    print(1)\n",
    "    print(\"good\")\n",
    "else:\n",
    "    print(\"enter a valid name\")\n",
    "    print('sorry')\n",
    "    \n",
    "#######################################\n",
    "print(\"now its fine\")"
   ]
  },
  {
   "cell_type": "code",
   "execution_count": null,
   "id": "cd8cfc8e",
   "metadata": {},
   "outputs": [],
   "source": [
    "9/5 # division # normal division"
   ]
  },
  {
   "cell_type": "code",
   "execution_count": 15,
   "id": "13b00dc0",
   "metadata": {},
   "outputs": [
    {
     "data": {
      "text/plain": [
       "1"
      ]
     },
     "execution_count": 15,
     "metadata": {},
     "output_type": "execute_result"
    }
   ],
   "source": [
    "9//5 # floor divison # quotienet"
   ]
  },
  {
   "cell_type": "code",
   "execution_count": 14,
   "id": "b48698d3",
   "metadata": {},
   "outputs": [
    {
     "data": {
      "text/plain": [
       "4"
      ]
     },
     "execution_count": 14,
     "metadata": {},
     "output_type": "execute_result"
    }
   ],
   "source": [
    "9%5 #modulus # reminder"
   ]
  },
  {
   "cell_type": "code",
   "execution_count": 20,
   "id": "f5db2e79",
   "metadata": {},
   "outputs": [
    {
     "name": "stdout",
     "output_type": "stream",
     "text": [
      "eneter a number: 5\n",
      "it is odd number\n"
     ]
    }
   ],
   "source": [
    "# WAP ask the user to enter  a number \n",
    "# print if that number is even or odd \n",
    "\n",
    "#even: when you divide any number with 2, the reminder should be zero\n",
    "\n",
    "num=eval(input(\"eneter a number: \"))\n",
    "if num%2==0:\n",
    "    print()\n",
    "else:\n",
    "    print(\"it is odd number\")"
   ]
  },
  {
   "cell_type": "code",
   "execution_count": 24,
   "id": "99fa98e8",
   "metadata": {},
   "outputs": [
    {
     "ename": "KeyboardInterrupt",
     "evalue": "Interrupted by user",
     "output_type": "error",
     "traceback": [
      "\u001b[1;31m---------------------------------------------------------------------------\u001b[0m",
      "\u001b[1;31mKeyboardInterrupt\u001b[0m                         Traceback (most recent call last)",
      "Cell \u001b[1;32mIn[24], line 1\u001b[0m\n\u001b[1;32m----> 1\u001b[0m num\u001b[38;5;241m=\u001b[39m\u001b[38;5;28meval\u001b[39m(\u001b[38;5;28minput\u001b[39m(\u001b[38;5;124m\"\u001b[39m\u001b[38;5;124meneter a number: \u001b[39m\u001b[38;5;124m\"\u001b[39m))\n\u001b[0;32m      2\u001b[0m \u001b[38;5;28;01mif\u001b[39;00m num\u001b[38;5;241m%\u001b[39m\u001b[38;5;241m2\u001b[39m\u001b[38;5;241m==\u001b[39m\u001b[38;5;241m0\u001b[39m:\n\u001b[0;32m      3\u001b[0m     \u001b[38;5;28mprint\u001b[39m(\u001b[38;5;124m\"\u001b[39m\u001b[38;5;132;01m{num}\u001b[39;00m\u001b[38;5;124m is a even number\u001b[39m\u001b[38;5;124m\"\u001b[39m)\n",
      "File \u001b[1;32m~\\anaconda3\\Lib\\site-packages\\ipykernel\\kernelbase.py:1202\u001b[0m, in \u001b[0;36mKernel.raw_input\u001b[1;34m(self, prompt)\u001b[0m\n\u001b[0;32m   1200\u001b[0m     msg \u001b[38;5;241m=\u001b[39m \u001b[38;5;124m\"\u001b[39m\u001b[38;5;124mraw_input was called, but this frontend does not support input requests.\u001b[39m\u001b[38;5;124m\"\u001b[39m\n\u001b[0;32m   1201\u001b[0m     \u001b[38;5;28;01mraise\u001b[39;00m StdinNotImplementedError(msg)\n\u001b[1;32m-> 1202\u001b[0m \u001b[38;5;28;01mreturn\u001b[39;00m \u001b[38;5;28mself\u001b[39m\u001b[38;5;241m.\u001b[39m_input_request(\n\u001b[0;32m   1203\u001b[0m     \u001b[38;5;28mstr\u001b[39m(prompt),\n\u001b[0;32m   1204\u001b[0m     \u001b[38;5;28mself\u001b[39m\u001b[38;5;241m.\u001b[39m_parent_ident[\u001b[38;5;124m\"\u001b[39m\u001b[38;5;124mshell\u001b[39m\u001b[38;5;124m\"\u001b[39m],\n\u001b[0;32m   1205\u001b[0m     \u001b[38;5;28mself\u001b[39m\u001b[38;5;241m.\u001b[39mget_parent(\u001b[38;5;124m\"\u001b[39m\u001b[38;5;124mshell\u001b[39m\u001b[38;5;124m\"\u001b[39m),\n\u001b[0;32m   1206\u001b[0m     password\u001b[38;5;241m=\u001b[39m\u001b[38;5;28;01mFalse\u001b[39;00m,\n\u001b[0;32m   1207\u001b[0m )\n",
      "File \u001b[1;32m~\\anaconda3\\Lib\\site-packages\\ipykernel\\kernelbase.py:1245\u001b[0m, in \u001b[0;36mKernel._input_request\u001b[1;34m(self, prompt, ident, parent, password)\u001b[0m\n\u001b[0;32m   1242\u001b[0m \u001b[38;5;28;01mexcept\u001b[39;00m \u001b[38;5;167;01mKeyboardInterrupt\u001b[39;00m:\n\u001b[0;32m   1243\u001b[0m     \u001b[38;5;66;03m# re-raise KeyboardInterrupt, to truncate traceback\u001b[39;00m\n\u001b[0;32m   1244\u001b[0m     msg \u001b[38;5;241m=\u001b[39m \u001b[38;5;124m\"\u001b[39m\u001b[38;5;124mInterrupted by user\u001b[39m\u001b[38;5;124m\"\u001b[39m\n\u001b[1;32m-> 1245\u001b[0m     \u001b[38;5;28;01mraise\u001b[39;00m \u001b[38;5;167;01mKeyboardInterrupt\u001b[39;00m(msg) \u001b[38;5;28;01mfrom\u001b[39;00m \u001b[38;5;28;01mNone\u001b[39;00m\n\u001b[0;32m   1246\u001b[0m \u001b[38;5;28;01mexcept\u001b[39;00m \u001b[38;5;167;01mException\u001b[39;00m:\n\u001b[0;32m   1247\u001b[0m     \u001b[38;5;28mself\u001b[39m\u001b[38;5;241m.\u001b[39mlog\u001b[38;5;241m.\u001b[39mwarning(\u001b[38;5;124m\"\u001b[39m\u001b[38;5;124mInvalid Message:\u001b[39m\u001b[38;5;124m\"\u001b[39m, exc_info\u001b[38;5;241m=\u001b[39m\u001b[38;5;28;01mTrue\u001b[39;00m)\n",
      "\u001b[1;31mKeyboardInterrupt\u001b[0m: Interrupted by user"
     ]
    }
   ],
   "source": [
    "num=eval(input(\"eneter a number: \"))\n",
    "if num%2==0:\n",
    "    print(\"{num} is a even number\")\n",
    "else:\n",
    "    print(\"it is odd number\")"
   ]
  },
  {
   "cell_type": "markdown",
   "id": "520f8ead",
   "metadata": {},
   "source": [
    "- name error # have we provided the variable above the lines \n",
    "- syntax error (:,},{},)\n",
    "- indentation error (space after :)\n",
    "- zero error # something divided by zero \n",
    "- value error # related to math error \n",
    "- attribute error (method not identified from module/package)"
   ]
  },
  {
   "cell_type": "code",
   "execution_count": 26,
   "id": "413a9a4c",
   "metadata": {},
   "outputs": [
    {
     "name": "stdout",
     "output_type": "stream",
     "text": [
      "odd\n"
     ]
    }
   ],
   "source": [
    "# WAP ask the user to enter a random number between 1 to 50 \n",
    "# print it is even or odd \n",
    "\n",
    "import random\n",
    "num=random.randint(1,50)\n",
    "if num%2==0:\n",
    "    print('even')\n",
    "else: \n",
    "    print('odd')\n",
    "                   \n",
    "    "
   ]
  },
  {
   "cell_type": "code",
   "execution_count": 27,
   "id": "0129319b",
   "metadata": {},
   "outputs": [
    {
     "ename": "SyntaxError",
     "evalue": "unterminated string literal (detected at line 4) (3379539001.py, line 4)",
     "output_type": "error",
     "traceback": [
      "\u001b[1;36m  Cell \u001b[1;32mIn[27], line 4\u001b[1;36m\u001b[0m\n\u001b[1;33m    print(f\"{num} is even')\u001b[0m\n\u001b[1;37m          ^\u001b[0m\n\u001b[1;31mSyntaxError\u001b[0m\u001b[1;31m:\u001b[0m unterminated string literal (detected at line 4)\n"
     ]
    }
   ],
   "source": [
    "\n",
    "num=10\n",
    "if num%2==0:\n",
    "    if num%2==0:\n",
    "    print(f\"{num} is even')\n",
    "else: \n",
    "    print(f\"{num} is odd')\n",
    "          \n",
    "##########################################################\n",
    "\n",
    "\n",
    "\n",
    "\n",
    "import random\n",
    "num=random.randint(1,50)\n",
    "if num%2==0:\n",
    "    print('even')\n",
    "else: \n",
    "    print('odd')"
   ]
  },
  {
   "cell_type": "code",
   "execution_count": null,
   "id": "8b0c79fa",
   "metadata": {},
   "outputs": [],
   "source": []
  },
  {
   "cell_type": "code",
   "execution_count": null,
   "id": "d5aa729e",
   "metadata": {},
   "outputs": [],
   "source": [
    "# wap ask the user enter a name \n",
    "# ask the user to a salary \n",
    "# ask the user to entera  tax % \n"
   ]
  },
  {
   "cell_type": "code",
   "execution_count": 30,
   "id": "1577cb8c",
   "metadata": {},
   "outputs": [
    {
     "name": "stdout",
     "output_type": "stream",
     "text": [
      "enter a name: sourj\n",
      "enter a salary: 10000000\n",
      "enter a tax %:10\n",
      "sourj earns good\n"
     ]
    }
   ],
   "source": [
    "name=input(\"enter a name: \")\n",
    "salary=eval(input(\"enter a salary: \"))\n",
    "tax_per=eval(input('enter a tax %:'))\n",
    "tax_pay=salary*tax_per/100\n",
    "if tax_pay>100000:\n",
    "    print(f'{name} earns good')\n",
    "else:\n",
    "    print(f'{name} earns less')\n"
   ]
  },
  {
   "cell_type": "code",
   "execution_count": null,
   "id": "07bcd673",
   "metadata": {},
   "outputs": [],
   "source": [
    "# wap ask the user to get a random number between 1 to 200 "
   ]
  },
  {
   "cell_type": "code",
   "execution_count": 32,
   "id": "bb132809",
   "metadata": {},
   "outputs": [
    {
     "name": "stdout",
     "output_type": "stream",
     "text": [
      "53 is greater than 0 and less than 99\n"
     ]
    }
   ],
   "source": [
    "import random\n",
    "num=random.randint(1,200)\n",
    "if num>99:\n",
    "    print(f'{num} is greater than 99 and less than 200')\n",
    "else: \n",
    "    print((f'{num} is greater than 0 and less than 99'))\n",
    "                   "
   ]
  },
  {
   "cell_type": "code",
   "execution_count": null,
   "id": "591056b3",
   "metadata": {},
   "outputs": [],
   "source": [
    "# wap ask the user to enater a number if that number greater than equal to 0"
   ]
  },
  {
   "cell_type": "code",
   "execution_count": 37,
   "id": "64da54b9",
   "metadata": {},
   "outputs": [
    {
     "name": "stdout",
     "output_type": "stream",
     "text": [
      "enter a value:89\n",
      "89 is positive\n"
     ]
    }
   ],
   "source": [
    "num=eval(input('enter a value:'))\n",
    "if num>=0:\n",
    "    print(f'{num} is positive')\n",
    "else:\n",
    "    print(f'{num} is negative')"
   ]
  },
  {
   "cell_type": "code",
   "execution_count": null,
   "id": "7834fb5c",
   "metadata": {},
   "outputs": [],
   "source": [
    "num=eval(input(\"enter the number:\"))\n",
    "num>0"
   ]
  },
  {
   "cell_type": "code",
   "execution_count": 44,
   "id": "76539a96",
   "metadata": {},
   "outputs": [
    {
     "name": "stdout",
     "output_type": "stream",
     "text": [
      "enter the number:34\n",
      "34 is a positive number\n"
     ]
    }
   ],
   "source": [
    "num=eval(input(\"enter the number:\"))\n",
    "if num>0:\n",
    "    print(f\"{num} is a positive number\")\n",
    "elif num<0:\n",
    "    print(f\"{num} is a negative number\")\n",
    "else:\n",
    "    print(\"it is zero\")"
   ]
  },
  {
   "cell_type": "code",
   "execution_count": 45,
   "id": "60a0c15e",
   "metadata": {},
   "outputs": [],
   "source": [
    "# Wap the user entera positive number \n"
   ]
  },
  {
   "cell_type": "code",
   "execution_count": 50,
   "id": "3e58d6a6",
   "metadata": {},
   "outputs": [
    {
     "name": "stdout",
     "output_type": "stream",
     "text": [
      "enter a positive:12\n",
      "invalid\n"
     ]
    }
   ],
   "source": [
    "num=eval(input('enter a positive:'))\n",
    "if num==1:\n",
    "    print(\"one\")\n",
    "if num==2:\n",
    "    print(\"two\")\n",
    "if num==3:\n",
    "    print(\"three\")\n",
    "else:\n",
    "    print(\"invalid\")"
   ]
  },
  {
   "cell_type": "code",
   "execution_count": null,
   "id": "da1574fb",
   "metadata": {},
   "outputs": [],
   "source": [
    "# ask the user the enter percentage of marks"
   ]
  },
  {
   "cell_type": "code",
   "execution_count": 58,
   "id": "66262952",
   "metadata": {},
   "outputs": [
    {
     "name": "stdout",
     "output_type": "stream",
     "text": [
      "enter marks in %:35\n",
      "D\n"
     ]
    }
   ],
   "source": [
    "marks=eval(input('enter marks in %:'))\n",
    "if marks>90:\n",
    "    print(\"A\")\n",
    "elif marks>=75:\n",
    "    print(\"B\")\n",
    "elif marks>=50:\n",
    "    print(\"C\")\n",
    "elif marks>=35:\n",
    "    print(\"D\")\n",
    "else:\n",
    "    print(\"Fail\")"
   ]
  },
  {
   "cell_type": "markdown",
   "id": "03806707",
   "metadata": {},
   "source": []
  },
  {
   "cell_type": "code",
   "execution_count": null,
   "id": "7c0e4d12",
   "metadata": {},
   "outputs": [],
   "source": [
    "# WAp enter an age if age>60"
   ]
  },
  {
   "cell_type": "code",
   "execution_count": 61,
   "id": "306bbb4b",
   "metadata": {},
   "outputs": [
    {
     "name": "stdout",
     "output_type": "stream",
     "text": [
      "enter age of person:8\n",
      "kids\n"
     ]
    }
   ],
   "source": [
    "age=eval(input('enter age of person:'))\n",
    "if age>=60:\n",
    "    print(\"Senior Citizen\")\n",
    "elif age>=45:\n",
    "    print(\"Middle aged\")\n",
    "elif age>=30:\n",
    "    print(\"aged\")\n",
    "elif age>=20:\n",
    "    print(\"Young\")\n",
    "elif age>=13:\n",
    "    print(\"Teenage\")\n",
    "else:\n",
    "    print(\"kid\")"
   ]
  },
  {
   "cell_type": "code",
   "execution_count": null,
   "id": "a9a9a567",
   "metadata": {},
   "outputs": [],
   "source": [
    "# Distance"
   ]
  },
  {
   "cell_type": "code",
   "execution_count": 68,
   "id": "4fb9ee42",
   "metadata": {},
   "outputs": [
    {
     "name": "stdout",
     "output_type": "stream",
     "text": [
      "enter the distance in KM:34\n",
      "User: hopw much fair\n",
      "Condoctor: the 34 is greater than 20km charge is INR 200\n",
      "enter the fare: 200\n",
      "the charge for 34km is INR 6800\n"
     ]
    }
   ],
   "source": [
    "distance=eval(input('enter the distance in KM:'))\n",
    "if distance<=5:\n",
    "    print(\"User: hopw much fair\")\n",
    "    print(f\"Condoctor: the {distance} is less than 5km charge is INR 25\")\n",
    "    fare=eval(input(\"enter the fare: \"))\n",
    "    charge=distance*fare\n",
    "    print(f\"the charge for {distance}km is INR {charge}\")\n",
    "elif distance<=20:\n",
    "    print(\"User: hopw much fair\")\n",
    "    print(f\"Condoctor: the {distance} is less than 20km charge is INR 100\")\n",
    "    fare=eval(input(\"enter the fare: \"))\n",
    "    charge=distance*fare\n",
    "    print(f\"the charge for {distance}km is INR {charge}\")\n",
    "else:\n",
    "    print(\"User: hopw much fair\")\n",
    "    print(f\"Condoctor: the {distance} is greater than 20km charge is INR 200\")\n",
    "    fare=eval(input(\"enter the fare: \"))\n",
    "    charge=distance*fare\n",
    "    print(f\"the charge for {distance}km is INR {charge}\")"
   ]
  },
  {
   "cell_type": "code",
   "execution_count": null,
   "id": "80849655",
   "metadata": {},
   "outputs": [],
   "source": [
    "# Ask the user to enter the gender \n",
    "# if gender = male\n",
    "# if male enter your age \n",
    "\n"
   ]
  },
  {
   "cell_type": "code",
   "execution_count": 78,
   "id": "9faf45de",
   "metadata": {},
   "outputs": [
    {
     "name": "stdout",
     "output_type": "stream",
     "text": [
      "enter the gender: ksa\n",
      "fine\n"
     ]
    }
   ],
   "source": [
    "gender=input(\"enter the gender: \")\n",
    "if gender=='male':\n",
    "    age=eval(input(\"enter the age: \"))\n",
    "    if age>=20: print(\"Man\")\n",
    "    else: print(\"Boy\")\n",
    "elif gender=='female':\n",
    "    age=eval(input(\"enter the age: \"))\n",
    "    if age>=20: print(\"Woman\")\n",
    "    else: print(\"Girl\")\n",
    "else:\n",
    "    print(\"fine\")"
   ]
  },
  {
   "cell_type": "code",
   "execution_count": 79,
   "id": "1f062462",
   "metadata": {},
   "outputs": [
    {
     "name": "stdout",
     "output_type": "stream",
     "text": [
      "kid: kid\n"
     ]
    }
   ],
   "source": [
    "kid=input(\"kid: hey mom\")\n",
    "mom=input(\"mom: hi kid\")\n",
    "kid=input(\"kid: govt had implemented free bus services for all females\")\n",
    "mom=input(\"mom: Yes! i too heard that\")\n",
    "kid=input(\"kid: Lets go to grand mother house \")\n",
    "mom=input(\"mom: okay sure!\")\n",
    "distance=eval(\"conductor: enter the distance: \")\n",
    "print(\"condoctor: show me your identity card\")\n",
    "answer==\"No\"\n",
    "    print(\"condoctor: you need a ticket\")\n",
    "    print(\"mom: how much is the fare\")\n",
    "    print(f\"Conductor: you mentioned your {distance} the fare is 100\")\n"
   ]
  },
  {
   "cell_type": "code",
   "execution_count": 83,
   "id": "31c064a6",
   "metadata": {},
   "outputs": [
    {
     "name": "stdout",
     "output_type": "stream",
     "text": [
      "kid: hey mom\n",
      "mom: hi kid\n",
      "kid: govt had implemented free bus services for all females\n",
      "mom: Yes! i too heard that\n",
      "kid: Lets go to grand mother house \n",
      "mom: okay sure!\n",
      "conductor: enter the distance: 34\n",
      "condoctor: show me your identity cardNo\n",
      "conductor: you need to take the ticket\n",
      "Mom: How much the fare\n",
      "enter the fare: 24\n",
      "condoctor: you mentioned your distance 34km, for distance total fare\n",
      "you have to pay INR 816\n"
     ]
    }
   ],
   "source": [
    "print(\"kid: hey mom\")\n",
    "print(\"mom: hi kid\")\n",
    "print(\"kid: govt had implemented free bus services for all females\")\n",
    "print(\"mom: Yes! i too heard that\")\n",
    "print(\"kid: Lets go to grand mother house \")\n",
    "print(\"mom: okay sure!\")\n",
    "dis=eval(input(\"conductor: enter the distance: \"))\n",
    "ans=input(\"condoctor: show me your identity card\")\n",
    "if ans=='No':\n",
    "    print('conductor: you need to take the ticket')\n",
    "    print(\"Mom: How much the fare\")\n",
    "    fare=eval(input(\"enter the fare: \"))\n",
    "    print(f\"condoctor: you mentioned your distance {dis}km, for distance total fare\")\n",
    "    total_fare=distance*fare\n",
    "    print(f'you have to pay INR {total_fare}')\n",
    "else: \n",
    "    print(\"enjoy your ride\")"
   ]
  },
  {
   "cell_type": "code",
   "execution_count": null,
   "id": "fc576702",
   "metadata": {},
   "outputs": [],
   "source": []
  },
  {
   "cell_type": "code",
   "execution_count": null,
   "id": "3e0785ce",
   "metadata": {},
   "outputs": [],
   "source": []
  }
 ],
 "metadata": {
  "kernelspec": {
   "display_name": "Python 3 (ipykernel)",
   "language": "python",
   "name": "python3"
  },
  "language_info": {
   "codemirror_mode": {
    "name": "ipython",
    "version": 3
   },
   "file_extension": ".py",
   "mimetype": "text/x-python",
   "name": "python",
   "nbconvert_exporter": "python",
   "pygments_lexer": "ipython3",
   "version": "3.11.5"
  }
 },
 "nbformat": 4,
 "nbformat_minor": 5
}
