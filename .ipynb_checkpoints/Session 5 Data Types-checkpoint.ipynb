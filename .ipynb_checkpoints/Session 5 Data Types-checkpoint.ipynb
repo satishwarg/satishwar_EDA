{
 "cells": [
  {
   "cell_type": "markdown",
   "id": "57cc219b",
   "metadata": {},
   "source": [
    "# data types"
   ]
  },
  {
   "cell_type": "markdown",
   "id": "226ddbef",
   "metadata": {},
   "source": [
    "- data in the form of text \n",
    "    - string \n",
    "    - Boolean\n",
    "- data in the form of number\n",
    "    - ingterger \n",
    "        -binary \n",
    "        -octa\n",
    "        -hexa\n",
    "    - float\n",
    "    - complex\n",
    "    "
   ]
  },
  {
   "cell_type": "code",
   "execution_count": null,
   "id": "2b5f976f",
   "metadata": {},
   "outputs": [],
   "source": [
    "modify the code"
   ]
  },
  {
   "cell_type": "code",
   "execution_count": null,
   "id": "5bbf8114",
   "metadata": {},
   "outputs": [],
   "source": [
    "changes done"
   ]
  },
  {
   "cell_type": "code",
   "execution_count": null,
   "id": "6a0416b5",
   "metadata": {},
   "outputs": [],
   "source": [
    "xxxxxxxxxxxxxxx"
   ]
  },
  {
   "cell_type": "markdown",
   "id": "3b91bb7a",
   "metadata": {},
   "source": [
    "# Integers "
   ]
  },
  {
   "cell_type": "code",
   "execution_count": 2,
   "id": "3dc54c05",
   "metadata": {},
   "outputs": [
    {
     "data": {
      "text/plain": [
       "int"
      ]
     },
     "execution_count": 2,
     "metadata": {},
     "output_type": "execute_result"
    }
   ],
   "source": [
    "num=100\n",
    "type(num)"
   ]
  },
  {
   "cell_type": "markdown",
   "id": "5a5792d8",
   "metadata": {},
   "source": [
    "$binary$"
   ]
  },
  {
   "cell_type": "markdown",
   "id": "42569eae",
   "metadata": {},
   "source": [
    "-it is also a number format \n",
    "- bi means 2 \n",
    "- it is a combination of only two digits \n",
    "- 0 1\n",
    "- binary represenattion in the form of  0 & 1\n",
    "- example 0b111, 0b111, 0B010"
   ]
  },
  {
   "cell_type": "code",
   "execution_count": 4,
   "id": "dfe2b304",
   "metadata": {},
   "outputs": [
    {
     "data": {
      "text/plain": [
       "5"
      ]
     },
     "execution_count": 4,
     "metadata": {},
     "output_type": "execute_result"
    }
   ],
   "source": [
    "0b101"
   ]
  },
  {
   "cell_type": "code",
   "execution_count": 5,
   "id": "e6991509",
   "metadata": {},
   "outputs": [
    {
     "data": {
      "text/plain": [
       "7"
      ]
     },
     "execution_count": 5,
     "metadata": {},
     "output_type": "execute_result"
    }
   ],
   "source": [
    "0b111"
   ]
  },
  {
   "cell_type": "code",
   "execution_count": 6,
   "id": "e05f62ba",
   "metadata": {},
   "outputs": [
    {
     "data": {
      "text/plain": [
       "14"
      ]
     },
     "execution_count": 6,
     "metadata": {},
     "output_type": "execute_result"
    }
   ],
   "source": [
    "0b1110"
   ]
  },
  {
   "cell_type": "code",
   "execution_count": 7,
   "id": "eb1a906f",
   "metadata": {},
   "outputs": [
    {
     "ename": "SyntaxError",
     "evalue": "invalid syntax (3743631794.py, line 1)",
     "output_type": "error",
     "traceback": [
      "\u001b[1;36m  Cell \u001b[1;32mIn[7], line 1\u001b[1;36m\u001b[0m\n\u001b[1;33m    -it is also a number format\u001b[0m\n\u001b[1;37m                ^\u001b[0m\n\u001b[1;31mSyntaxError\u001b[0m\u001b[1;31m:\u001b[0m invalid syntax\n"
     ]
    }
   ],
   "source": [
    "-it is also a number format\n",
    "\n",
    "bi means 2\n",
    "it is a combination of only 8 digits\n",
    "0 1 2 3 4 5 6 7\n",
    "binary represenattion in the form of 0 & 1\n",
    "example 0o147, 0o1172, 0o321"
   ]
  },
  {
   "cell_type": "code",
   "execution_count": 8,
   "id": "d89cac5d",
   "metadata": {},
   "outputs": [
    {
     "data": {
      "text/plain": [
       "83"
      ]
     },
     "execution_count": 8,
     "metadata": {},
     "output_type": "execute_result"
    }
   ],
   "source": [
    "0o123"
   ]
  },
  {
   "cell_type": "code",
   "execution_count": null,
   "id": "5e774676",
   "metadata": {},
   "outputs": [],
   "source": []
  }
 ],
 "metadata": {
  "kernelspec": {
   "display_name": "Python 3 (ipykernel)",
   "language": "python",
   "name": "python3"
  },
  "language_info": {
   "codemirror_mode": {
    "name": "ipython",
    "version": 3
   },
   "file_extension": ".py",
   "mimetype": "text/x-python",
   "name": "python",
   "nbconvert_exporter": "python",
   "pygments_lexer": "ipython3",
   "version": "3.11.5"
  }
 },
 "nbformat": 4,
 "nbformat_minor": 5
}
