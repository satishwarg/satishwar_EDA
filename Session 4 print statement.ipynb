{
 "cells": [
  {
   "cell_type": "code",
   "execution_count": 1,
   "id": "ec454a3a",
   "metadata": {},
   "outputs": [
    {
     "name": "stdout",
     "output_type": "stream",
     "text": [
      "hello python\n"
     ]
    }
   ],
   "source": [
    "name1=\"hello\"\n",
    "name2=\"python\"\n",
    "print(name1,name2)"
   ]
  },
  {
   "cell_type": "code",
   "execution_count": 6,
   "id": "fb8bd58b",
   "metadata": {},
   "outputs": [
    {
     "name": "stdout",
     "output_type": "stream",
     "text": [
      "the value of a and b is c\n"
     ]
    }
   ],
   "source": [
    "a=10\n",
    "b=20\n",
    "c=a+b\n",
    "print(\"the value of a and b is c\")"
   ]
  },
  {
   "cell_type": "code",
   "execution_count": 13,
   "id": "c43c17c6",
   "metadata": {},
   "outputs": [
    {
     "name": "stdout",
     "output_type": "stream",
     "text": [
      "the value of 10 and 20 is 30\n"
     ]
    }
   ],
   "source": [
    "a=10\n",
    "b=20\n",
    "c=a+b\n",
    "print(\"the value of\", a, \"and\", b, \"is\",c)"
   ]
  },
  {
   "cell_type": "code",
   "execution_count": 15,
   "id": "6b4e8a9b",
   "metadata": {},
   "outputs": [
    {
     "name": "stdout",
     "output_type": "stream",
     "text": [
      "hello\n",
      "python\n"
     ]
    }
   ],
   "source": [
    "print(\"hello\")\n",
    "print('python')"
   ]
  },
  {
   "cell_type": "code",
   "execution_count": 16,
   "id": "a834c6cf",
   "metadata": {},
   "outputs": [
    {
     "name": "stdout",
     "output_type": "stream",
     "text": [
      "Iam satishwar, iam from hyd, iam 24 years old\n"
     ]
    }
   ],
   "source": [
    "print(\"Iam satishwar, iam from hyd, iam 24 years old\")"
   ]
  },
  {
   "cell_type": "code",
   "execution_count": 25,
   "id": "f40a4aff",
   "metadata": {},
   "outputs": [
    {
     "name": "stdout",
     "output_type": "stream",
     "text": [
      "I am satishwar I am from hyderabad I am 31 years old\n"
     ]
    }
   ],
   "source": [
    "name=\"satishwar\"\n",
    "age=31\n",
    "city=\"hyderabad\"\n",
    "print(\"I am\", name,\"I am from\", city, \"I am\", age, \"years old\")"
   ]
  },
  {
   "cell_type": "code",
   "execution_count": 28,
   "id": "9c47dfbc",
   "metadata": {},
   "outputs": [
    {
     "name": "stdout",
     "output_type": "stream",
     "text": [
      "the value of 10 and 20 is 30\n"
     ]
    }
   ],
   "source": [
    "a=10\n",
    "b=20\n",
    "c=a+b\n",
    "print(\"the value of {} and {} is {}\".format(a,b,c))"
   ]
  },
  {
   "cell_type": "code",
   "execution_count": 29,
   "id": "d9cf3403",
   "metadata": {},
   "outputs": [
    {
     "name": "stdout",
     "output_type": "stream",
     "text": [
      "I am satishwar am from hyderabad I am 31 years old\n"
     ]
    }
   ],
   "source": [
    "name=\"satishwar\"\n",
    "age=31\n",
    "city=\"hyderabad\"\n",
    "print(\"I am {} am from {} I am {} years old\".format(name,city,age))"
   ]
  },
  {
   "cell_type": "markdown",
   "id": "2da75f88",
   "metadata": {},
   "source": [
    "# f string concept"
   ]
  },
  {
   "cell_type": "code",
   "execution_count": 31,
   "id": "c4b812ec",
   "metadata": {},
   "outputs": [
    {
     "name": "stdout",
     "output_type": "stream",
     "text": [
      "I am 10 am from 20 I am 30 years old\n"
     ]
    }
   ],
   "source": [
    "name=\"satishwar\"\n",
    "age=31\n",
    "city=\"hyderabad\"\n",
    "print(f\"I am {a} am from {b} I am {c} years old\")"
   ]
  },
  {
   "cell_type": "code",
   "execution_count": 35,
   "id": "75e55660",
   "metadata": {},
   "outputs": [
    {
     "name": "stdout",
     "output_type": "stream",
     "text": [
      "the value of 10 and 20 is 30\n",
      "the value of 10 and 20 is 30\n",
      "the value of 10 and 20 is 30\n"
     ]
    }
   ],
   "source": [
    "a=10\n",
    "b=20\n",
    "c=a+b\n",
    "print(\"the value of {} and {} is {}\".format(a,b,c))\n",
    "print(\"the value of\", a, \"and\", b, \"is\",c)\n",
    "print(f\"the value of {a} and {b} is {c}\")"
   ]
  },
  {
   "cell_type": "code",
   "execution_count": 39,
   "id": "a75d2cf7",
   "metadata": {},
   "outputs": [
    {
     "name": "stdout",
     "output_type": "stream",
     "text": [
      "I am 10 am from 20 I am 30 years old\n",
      "I am 10 Iam from 20 iam  30 years old\n",
      "I am 10 am from 20 I am 30 years old\n"
     ]
    }
   ],
   "source": [
    "name=\"satishwar\"\n",
    "age=31\n",
    "city=\"hyderabad\"\n",
    "print(f\"I am {name} am from {age} I am {city} years old\")\n",
    "print(\"I am\", a, \"Iam from\", b, \"iam \",c, \"years old\")\n",
    "print(\"I am {} am from {} I am {} years old\".format(a,b,c))"
   ]
  },
  {
   "cell_type": "markdown",
   "id": "c5f20820",
   "metadata": {},
   "source": [
    "$end$"
   ]
  },
  {
   "cell_type": "code",
   "execution_count": 43,
   "id": "c09b6509",
   "metadata": {},
   "outputs": [
    {
     "name": "stdout",
     "output_type": "stream",
     "text": [
      "hello and python\n"
     ]
    }
   ],
   "source": [
    "print('hello',end=\" and \")\n",
    "print('python')"
   ]
  },
  {
   "cell_type": "markdown",
   "id": "2693dbba",
   "metadata": {},
   "source": [
    "red color = string \n",
    "green color = key words \n",
    "black color = variable"
   ]
  },
  {
   "cell_type": "code",
   "execution_count": 45,
   "id": "bb9fc28b",
   "metadata": {},
   "outputs": [
    {
     "name": "stdout",
     "output_type": "stream",
     "text": [
      "1,2,3\n"
     ]
    }
   ],
   "source": [
    "print(1,end=\",\")\n",
    "print(2,end=\",\")\n",
    "print(3)"
   ]
  },
  {
   "cell_type": "code",
   "execution_count": null,
   "id": "4cee2016",
   "metadata": {},
   "outputs": [],
   "source": []
  }
 ],
 "metadata": {
  "kernelspec": {
   "display_name": "Python 3 (ipykernel)",
   "language": "python",
   "name": "python3"
  },
  "language_info": {
   "codemirror_mode": {
    "name": "ipython",
    "version": 3
   },
   "file_extension": ".py",
   "mimetype": "text/x-python",
   "name": "python",
   "nbconvert_exporter": "python",
   "pygments_lexer": "ipython3",
   "version": "3.11.5"
  }
 },
 "nbformat": 4,
 "nbformat_minor": 5
}
